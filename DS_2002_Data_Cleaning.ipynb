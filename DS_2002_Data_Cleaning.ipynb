{
  "nbformat": 4,
  "nbformat_minor": 0,
  "metadata": {
    "colab": {
      "provenance": [],
      "authorship_tag": "ABX9TyP3WG0agphVaDcmg5xdr3I1",
      "include_colab_link": true
    },
    "kernelspec": {
      "name": "python3",
      "display_name": "Python 3"
    },
    "language_info": {
      "name": "python"
    }
  },
  "cells": [
    {
      "cell_type": "markdown",
      "metadata": {
        "id": "view-in-github",
        "colab_type": "text"
      },
      "source": [
        "<a href=\"https://colab.research.google.com/github/adibahasnat/ds2002_FinalProject/blob/main/DS_2002_Data_Cleaning.ipynb\" target=\"_parent\"><img src=\"https://colab.research.google.com/assets/colab-badge.svg\" alt=\"Open In Colab\"/></a>"
      ]
    },
    {
      "cell_type": "code",
      "execution_count": null,
      "metadata": {
        "colab": {
          "base_uri": "https://localhost:8080/"
        },
        "id": "eFBPwsdcJ8PL",
        "outputId": "d2e14c59-6edc-4b23-b0f8-9c5d1bac8aa3"
      },
      "outputs": [
        {
          "output_type": "stream",
          "name": "stdout",
          "text": [
            "Country                       0\n",
            "AveragScore                   0\n",
            "SafetySecurity                0\n",
            "PersonelFreedom               0\n",
            "Governance                    0\n",
            "SocialCapital                 0\n",
            "InvestmentEnvironment         0\n",
            "EnterpriseConditions          0\n",
            "MarketAccessInfrastructure    0\n",
            "EconomicQuality               0\n",
            "LivingConditions              0\n",
            "Health                        0\n",
            "Education                     0\n",
            "NaturalEnvironment            0\n",
            "dtype: int64\n",
            "Rank                              0\n",
            "University name                   0\n",
            "locationLocation                111\n",
            "Number of Studnet                 0\n",
            "Number of student per staffs      1\n",
            "International Student             0\n",
            "Female : male ratio              90\n",
            "dtype: int64\n"
          ]
        }
      ],
      "source": [
        "import pandas as pd\n",
        "\n",
        "global_country_development = pd.read_csv('data.csv')\n",
        "world_university_rank = pd.read_csv('world_university_rank.csv')\n",
        "cleaned_world_university_rank = pd.read_csv('cleaned_world_university_rank.csv')\n",
        "\n",
        "# Checking for missing values\n",
        "print(global_country_development.isnull().sum())\n",
        "print(world_university_rank.isnull().sum())\n"
      ]
    },
    {
      "cell_type": "code",
      "source": [
        "\n",
        "# Drop rows where 'locationLocation' is missing\n",
        "world_university_rank = world_university_rank.dropna(subset=['locationLocation'])"
      ],
      "metadata": {
        "id": "am562hpQKaRf"
      },
      "execution_count": null,
      "outputs": []
    },
    {
      "cell_type": "code",
      "source": [
        "# Replace missing 'Female : male ratio' with 'Unknown'\n",
        "world_university_rank['Female : male ratio'] = world_university_rank['Female : male ratio'].fillna('Unknown')\n"
      ],
      "metadata": {
        "id": "wH5faDpEL_-b"
      },
      "execution_count": null,
      "outputs": []
    },
    {
      "cell_type": "code",
      "source": [
        "# Replace missing 'Number of student per staffs' with the column mean\n",
        "world_university_rank['Number of student per staffs'] = world_university_rank['Number of student per staffs'].fillna('Unknown')\n"
      ],
      "metadata": {
        "id": "GsO8gGEeMWBI"
      },
      "execution_count": null,
      "outputs": []
    },
    {
      "cell_type": "code",
      "source": [
        "print(world_university_rank.isnull().sum())\n"
      ],
      "metadata": {
        "colab": {
          "base_uri": "https://localhost:8080/"
        },
        "id": "fSLc0S-QMJ6r",
        "outputId": "373ca998-7895-46a3-b8cc-8d08966fa4e7"
      },
      "execution_count": null,
      "outputs": [
        {
          "output_type": "stream",
          "name": "stdout",
          "text": [
            "Rank                            0\n",
            "University name                 0\n",
            "locationLocation                0\n",
            "Number of Studnet               0\n",
            "Number of student per staffs    0\n",
            "International Student           0\n",
            "Female : male ratio             0\n",
            "dtype: int64\n"
          ]
        }
      ]
    },
    {
      "cell_type": "code",
      "source": [
        "# Rename columns\n",
        "world_university_rank = world_university_rank.rename(columns={\n",
        "    'Rank': 'university_rank',\n",
        "    'University name': 'university_name',\n",
        "    'locationLocation': 'country',\n",
        "    'Number of Studnet': 'total_students',\n",
        "    'Number of student per staffs': 'students_per_staff',\n",
        "    'International Student': 'international_students_percentage',\n",
        "    'Female : male ratio': 'gender_ratio'\n",
        "})"
      ],
      "metadata": {
        "id": "jj7RLrvDMiIN"
      },
      "execution_count": null,
      "outputs": []
    },
    {
      "cell_type": "code",
      "source": [
        "# Save the cleaned dataset\n",
        "world_university_rank.to_csv(\"cleaned_world_university_rank.csv\", index=False)"
      ],
      "metadata": {
        "id": "ovAteZayM_8d"
      },
      "execution_count": null,
      "outputs": []
    },
    {
      "cell_type": "code",
      "source": [
        "print(cleaned_world_university_rank.isnull().sum())\n"
      ],
      "metadata": {
        "colab": {
          "base_uri": "https://localhost:8080/"
        },
        "id": "8qMA12JlNLHZ",
        "outputId": "af7c3c76-1741-4cbd-f001-66e3ad902335"
      },
      "execution_count": null,
      "outputs": [
        {
          "output_type": "stream",
          "name": "stdout",
          "text": [
            "university_rank                      0\n",
            "university_name                      0\n",
            "country                              0\n",
            "total_students                       0\n",
            "students_per_staff                   0\n",
            "international_students_percentage    0\n",
            "gender_ratio                         0\n",
            "dtype: int64\n"
          ]
        }
      ]
    },
    {
      "cell_type": "code",
      "source": [
        "# Standardize column names\n",
        "global_country_development.columns = global_country_development.columns.str.strip().str.lower().str.replace(' ', '_')"
      ],
      "metadata": {
        "id": "S7f8Z6bxNjmp"
      },
      "execution_count": null,
      "outputs": []
    },
    {
      "cell_type": "code",
      "source": [
        "# Rename columns\n",
        "global_country_development = global_country_development.rename(columns={\n",
        "    'country': 'country',\n",
        "    'averagscore': 'average_score',\n",
        "    'safetysecurity': 'safety_and_security',\n",
        "    'personelfreedom': 'personal_freedom',\n",
        "    'governance': 'governance',\n",
        "    'socialcapital': 'social_capital',\n",
        "    'investmentenvironment': 'investment_environment',\n",
        "    'enterpriseconditions': 'enterprise_conditions',\n",
        "    'marketaccessinfrastructure': 'market_access_infrastructure',\n",
        "    'economicquality': 'economic_quality',\n",
        "    'livingconditions': 'living_conditions',\n",
        "    'health': 'health',\n",
        "    'education': 'education',\n",
        "    'naturalenvironment': 'natural_environment'\n",
        "})"
      ],
      "metadata": {
        "id": "bMLDrpkjNq_7"
      },
      "execution_count": null,
      "outputs": []
    },
    {
      "cell_type": "code",
      "source": [
        "# Drop unnecessary columns\n",
        "global_country_development = global_country_development.drop(columns=['investment_environment', 'enterprise_conditions', 'market_access_infrastructure'])\n"
      ],
      "metadata": {
        "id": "-zcJFrQYOSVl"
      },
      "execution_count": null,
      "outputs": []
    },
    {
      "cell_type": "code",
      "source": [
        "print(global_country_development.isnull().sum())\n"
      ],
      "metadata": {
        "colab": {
          "base_uri": "https://localhost:8080/"
        },
        "id": "pKCH6BegOzLg",
        "outputId": "b26f0eec-3f04-4a35-d697-74e747425bde"
      },
      "execution_count": null,
      "outputs": [
        {
          "output_type": "stream",
          "name": "stdout",
          "text": [
            "country                0\n",
            "average_score          0\n",
            "safety_and_security    0\n",
            "personal_freedom       0\n",
            "governance             0\n",
            "social_capital         0\n",
            "economic_quality       0\n",
            "living_conditions      0\n",
            "health                 0\n",
            "education              0\n",
            "natural_environment    0\n",
            "dtype: int64\n"
          ]
        }
      ]
    },
    {
      "cell_type": "code",
      "source": [
        "# Save the cleaned dataset\n",
        "global_country_development.to_csv(\"cleaned_global_country_development.csv\", index=False)"
      ],
      "metadata": {
        "id": "qaZwNvDtO5BB"
      },
      "execution_count": null,
      "outputs": []
    },
    {
      "cell_type": "code",
      "source": [],
      "metadata": {
        "id": "OR2hK9WdoOyv"
      },
      "execution_count": null,
      "outputs": []
    }
  ]
}